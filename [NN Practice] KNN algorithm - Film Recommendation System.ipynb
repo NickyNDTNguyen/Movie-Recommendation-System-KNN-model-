{
 "cells": [
  {
   "cell_type": "markdown",
   "id": "69b28041",
   "metadata": {},
   "source": [
    "<h1>LIBRARIES</ha"
   ]
  },
  {
   "cell_type": "code",
   "execution_count": 60,
   "id": "9b3bd570",
   "metadata": {},
   "outputs": [
    {
     "name": "stdout",
     "output_type": "stream",
     "text": [
      "Collecting fuzzywuzzy\n",
      "  Downloading fuzzywuzzy-0.18.0-py2.py3-none-any.whl (18 kB)\n",
      "Installing collected packages: fuzzywuzzy\n",
      "Successfully installed fuzzywuzzy-0.18.0\n"
     ]
    }
   ],
   "source": [
    "!pip install fuzzywuzzy"
   ]
  },
  {
   "cell_type": "code",
   "execution_count": 1,
   "id": "de7255d4",
   "metadata": {},
   "outputs": [],
   "source": [
    "import os\n",
    "import time\n",
    "import math\n",
    "import numpy as np\n",
    "import pandas as pd\n",
    "from scipy.sparse import csr_matrix\n",
    "from sklearn.neighbors import NearestNeighbors\n",
    "from fuzzywuzzy import fuzz\n",
    "\n",
    "# Visualization\n",
    "import seaborn as sns\n",
    "import matplotlib.pyplot as plt\n",
    "plt.style.use('ggplot')\n",
    "%matplotlib inline"
   ]
  },
  {
   "cell_type": "markdown",
   "id": "a52af47a",
   "metadata": {},
   "source": [
    "<h1>LOADING LIBRARIES</h1>"
   ]
  },
  {
   "cell_type": "code",
   "execution_count": 2,
   "id": "dab758ce",
   "metadata": {},
   "outputs": [
    {
     "data": {
      "text/html": [
       "<div>\n",
       "<style scoped>\n",
       "    .dataframe tbody tr th:only-of-type {\n",
       "        vertical-align: middle;\n",
       "    }\n",
       "\n",
       "    .dataframe tbody tr th {\n",
       "        vertical-align: top;\n",
       "    }\n",
       "\n",
       "    .dataframe thead th {\n",
       "        text-align: right;\n",
       "    }\n",
       "</style>\n",
       "<table border=\"1\" class=\"dataframe\">\n",
       "  <thead>\n",
       "    <tr style=\"text-align: right;\">\n",
       "      <th></th>\n",
       "      <th>movieId</th>\n",
       "      <th>title</th>\n",
       "    </tr>\n",
       "  </thead>\n",
       "  <tbody>\n",
       "    <tr>\n",
       "      <th>0</th>\n",
       "      <td>1</td>\n",
       "      <td>Toy Story (1995)</td>\n",
       "    </tr>\n",
       "    <tr>\n",
       "      <th>1</th>\n",
       "      <td>2</td>\n",
       "      <td>Jumanji (1995)</td>\n",
       "    </tr>\n",
       "    <tr>\n",
       "      <th>2</th>\n",
       "      <td>3</td>\n",
       "      <td>Grumpier Old Men (1995)</td>\n",
       "    </tr>\n",
       "    <tr>\n",
       "      <th>3</th>\n",
       "      <td>4</td>\n",
       "      <td>Waiting to Exhale (1995)</td>\n",
       "    </tr>\n",
       "    <tr>\n",
       "      <th>4</th>\n",
       "      <td>5</td>\n",
       "      <td>Father of the Bride Part II (1995)</td>\n",
       "    </tr>\n",
       "  </tbody>\n",
       "</table>\n",
       "</div>"
      ],
      "text/plain": [
       "   movieId                               title\n",
       "0        1                    Toy Story (1995)\n",
       "1        2                      Jumanji (1995)\n",
       "2        3             Grumpier Old Men (1995)\n",
       "3        4            Waiting to Exhale (1995)\n",
       "4        5  Father of the Bride Part II (1995)"
      ]
     },
     "execution_count": 2,
     "metadata": {},
     "output_type": "execute_result"
    }
   ],
   "source": [
    "#  Load data, take only necessary columns and set data types\n",
    "df_movie = pd.read_csv('movies.csv', usecols=['movieId','title'], dtype={'movieId':'int32', 'title':'str'})\n",
    "df_movie.head()"
   ]
  },
  {
   "cell_type": "code",
   "execution_count": 3,
   "id": "fffc4994",
   "metadata": {},
   "outputs": [
    {
     "name": "stdout",
     "output_type": "stream",
     "text": [
      "<class 'pandas.core.frame.DataFrame'>\n",
      "RangeIndex: 9742 entries, 0 to 9741\n",
      "Data columns (total 2 columns):\n",
      " #   Column   Non-Null Count  Dtype \n",
      "---  ------   --------------  ----- \n",
      " 0   movieId  9742 non-null   int32 \n",
      " 1   title    9742 non-null   object\n",
      "dtypes: int32(1), object(1)\n",
      "memory usage: 114.3+ KB\n"
     ]
    }
   ],
   "source": [
    "df_movie.info()"
   ]
  },
  {
   "cell_type": "code",
   "execution_count": 4,
   "id": "74fa112d",
   "metadata": {},
   "outputs": [
    {
     "data": {
      "text/html": [
       "<div>\n",
       "<style scoped>\n",
       "    .dataframe tbody tr th:only-of-type {\n",
       "        vertical-align: middle;\n",
       "    }\n",
       "\n",
       "    .dataframe tbody tr th {\n",
       "        vertical-align: top;\n",
       "    }\n",
       "\n",
       "    .dataframe thead th {\n",
       "        text-align: right;\n",
       "    }\n",
       "</style>\n",
       "<table border=\"1\" class=\"dataframe\">\n",
       "  <thead>\n",
       "    <tr style=\"text-align: right;\">\n",
       "      <th></th>\n",
       "      <th>userId</th>\n",
       "      <th>movieId</th>\n",
       "      <th>rating</th>\n",
       "    </tr>\n",
       "  </thead>\n",
       "  <tbody>\n",
       "    <tr>\n",
       "      <th>0</th>\n",
       "      <td>1</td>\n",
       "      <td>1</td>\n",
       "      <td>4.0</td>\n",
       "    </tr>\n",
       "    <tr>\n",
       "      <th>1</th>\n",
       "      <td>1</td>\n",
       "      <td>3</td>\n",
       "      <td>4.0</td>\n",
       "    </tr>\n",
       "    <tr>\n",
       "      <th>2</th>\n",
       "      <td>1</td>\n",
       "      <td>6</td>\n",
       "      <td>4.0</td>\n",
       "    </tr>\n",
       "    <tr>\n",
       "      <th>3</th>\n",
       "      <td>1</td>\n",
       "      <td>47</td>\n",
       "      <td>5.0</td>\n",
       "    </tr>\n",
       "    <tr>\n",
       "      <th>4</th>\n",
       "      <td>1</td>\n",
       "      <td>50</td>\n",
       "      <td>5.0</td>\n",
       "    </tr>\n",
       "  </tbody>\n",
       "</table>\n",
       "</div>"
      ],
      "text/plain": [
       "   userId  movieId  rating\n",
       "0       1        1     4.0\n",
       "1       1        3     4.0\n",
       "2       1        6     4.0\n",
       "3       1       47     5.0\n",
       "4       1       50     5.0"
      ]
     },
     "execution_count": 4,
     "metadata": {},
     "output_type": "execute_result"
    }
   ],
   "source": [
    "df_rate = pd.read_csv('ratings.csv', usecols=['movieId','userId','rating'], \n",
    "                                    dtype={'movieId':'int32','userId':'int32','rating':'float32'})\n",
    "df_rate.head()"
   ]
  },
  {
   "cell_type": "code",
   "execution_count": 5,
   "id": "44c3e8db",
   "metadata": {},
   "outputs": [
    {
     "name": "stdout",
     "output_type": "stream",
     "text": [
      "<class 'pandas.core.frame.DataFrame'>\n",
      "RangeIndex: 100836 entries, 0 to 100835\n",
      "Data columns (total 3 columns):\n",
      " #   Column   Non-Null Count   Dtype  \n",
      "---  ------   --------------   -----  \n",
      " 0   userId   100836 non-null  int32  \n",
      " 1   movieId  100836 non-null  int32  \n",
      " 2   rating   100836 non-null  float32\n",
      "dtypes: float32(1), int32(2)\n",
      "memory usage: 1.2 MB\n"
     ]
    }
   ],
   "source": [
    "df_rate.info()"
   ]
  },
  {
   "cell_type": "code",
   "execution_count": 6,
   "id": "0666f79e",
   "metadata": {},
   "outputs": [
    {
     "name": "stdout",
     "output_type": "stream",
     "text": [
      "There are 610 unique users involve rating 9724 movies\n"
     ]
    }
   ],
   "source": [
    "num_users = len(df_rate.userId.unique())\n",
    "num_movies = len(df_rate.movieId.unique())\n",
    "print('There are {} unique users involve rating {} movies'.format(num_users, num_movies))"
   ]
  },
  {
   "cell_type": "markdown",
   "id": "e1c1d26f",
   "metadata": {},
   "source": [
    "<h1>EDA</h1>"
   ]
  },
  {
   "cell_type": "markdown",
   "id": "c916c823",
   "metadata": {},
   "source": [
    "Let's count how many numbers of rating for each rating level."
   ]
  },
  {
   "cell_type": "code",
   "execution_count": 7,
   "id": "956b4b5a",
   "metadata": {},
   "outputs": [
    {
     "data": {
      "text/html": [
       "<div>\n",
       "<style scoped>\n",
       "    .dataframe tbody tr th:only-of-type {\n",
       "        vertical-align: middle;\n",
       "    }\n",
       "\n",
       "    .dataframe tbody tr th {\n",
       "        vertical-align: top;\n",
       "    }\n",
       "\n",
       "    .dataframe thead th {\n",
       "        text-align: right;\n",
       "    }\n",
       "</style>\n",
       "<table border=\"1\" class=\"dataframe\">\n",
       "  <thead>\n",
       "    <tr style=\"text-align: right;\">\n",
       "      <th></th>\n",
       "      <th>count</th>\n",
       "    </tr>\n",
       "    <tr>\n",
       "      <th>rating</th>\n",
       "      <th></th>\n",
       "    </tr>\n",
       "  </thead>\n",
       "  <tbody>\n",
       "    <tr>\n",
       "      <th>0.5</th>\n",
       "      <td>1370</td>\n",
       "    </tr>\n",
       "    <tr>\n",
       "      <th>1.0</th>\n",
       "      <td>2811</td>\n",
       "    </tr>\n",
       "    <tr>\n",
       "      <th>1.5</th>\n",
       "      <td>1791</td>\n",
       "    </tr>\n",
       "    <tr>\n",
       "      <th>2.0</th>\n",
       "      <td>7551</td>\n",
       "    </tr>\n",
       "    <tr>\n",
       "      <th>2.5</th>\n",
       "      <td>5550</td>\n",
       "    </tr>\n",
       "    <tr>\n",
       "      <th>3.0</th>\n",
       "      <td>20047</td>\n",
       "    </tr>\n",
       "    <tr>\n",
       "      <th>3.5</th>\n",
       "      <td>13136</td>\n",
       "    </tr>\n",
       "    <tr>\n",
       "      <th>4.0</th>\n",
       "      <td>26818</td>\n",
       "    </tr>\n",
       "    <tr>\n",
       "      <th>4.5</th>\n",
       "      <td>8551</td>\n",
       "    </tr>\n",
       "    <tr>\n",
       "      <th>5.0</th>\n",
       "      <td>13211</td>\n",
       "    </tr>\n",
       "  </tbody>\n",
       "</table>\n",
       "</div>"
      ],
      "text/plain": [
       "        count\n",
       "rating       \n",
       "0.5      1370\n",
       "1.0      2811\n",
       "1.5      1791\n",
       "2.0      7551\n",
       "2.5      5550\n",
       "3.0     20047\n",
       "3.5     13136\n",
       "4.0     26818\n",
       "4.5      8551\n",
       "5.0     13211"
      ]
     },
     "execution_count": 7,
     "metadata": {},
     "output_type": "execute_result"
    }
   ],
   "source": [
    "df_cnt_rating = pd.DataFrame(df_rate.groupby('rating').size(), columns=['count'])\n",
    "df_cnt_rating"
   ]
  },
  {
   "cell_type": "markdown",
   "id": "20fcb272",
   "metadata": {},
   "source": [
    "We can see that the level of rating spreads from 0.5 to 5.0.<br>\n",
    "Why don't we have 0.0 rating? Actually, the system does not contain such rating, because when a user rates a movie, he/she must put the rating at least 0.5 and maximum is 5.0.</br>\n",
    "Additionally, it is hard for a user to watch all movies and rate them. They just rate the movies which they watched. If all users rate all movies, the number of rows in rating dataset must be num_users * num_movies.</br>\n",
    "Therefore, we will set 0.0 rating level in our dataset and consider it as the lack of rating (it means user has not watched movie yet).</br>"
   ]
  },
  {
   "cell_type": "code",
   "execution_count": 8,
   "id": "8fcaf84b",
   "metadata": {},
   "outputs": [
    {
     "data": {
      "text/html": [
       "<div>\n",
       "<style scoped>\n",
       "    .dataframe tbody tr th:only-of-type {\n",
       "        vertical-align: middle;\n",
       "    }\n",
       "\n",
       "    .dataframe tbody tr th {\n",
       "        vertical-align: top;\n",
       "    }\n",
       "\n",
       "    .dataframe thead th {\n",
       "        text-align: right;\n",
       "    }\n",
       "</style>\n",
       "<table border=\"1\" class=\"dataframe\">\n",
       "  <thead>\n",
       "    <tr style=\"text-align: right;\">\n",
       "      <th></th>\n",
       "      <th>count</th>\n",
       "    </tr>\n",
       "  </thead>\n",
       "  <tbody>\n",
       "    <tr>\n",
       "      <th>0.0</th>\n",
       "      <td>5830804</td>\n",
       "    </tr>\n",
       "    <tr>\n",
       "      <th>0.5</th>\n",
       "      <td>1370</td>\n",
       "    </tr>\n",
       "    <tr>\n",
       "      <th>1.0</th>\n",
       "      <td>2811</td>\n",
       "    </tr>\n",
       "    <tr>\n",
       "      <th>1.5</th>\n",
       "      <td>1791</td>\n",
       "    </tr>\n",
       "    <tr>\n",
       "      <th>2.0</th>\n",
       "      <td>7551</td>\n",
       "    </tr>\n",
       "    <tr>\n",
       "      <th>2.5</th>\n",
       "      <td>5550</td>\n",
       "    </tr>\n",
       "    <tr>\n",
       "      <th>3.0</th>\n",
       "      <td>20047</td>\n",
       "    </tr>\n",
       "    <tr>\n",
       "      <th>3.5</th>\n",
       "      <td>13136</td>\n",
       "    </tr>\n",
       "    <tr>\n",
       "      <th>4.0</th>\n",
       "      <td>26818</td>\n",
       "    </tr>\n",
       "    <tr>\n",
       "      <th>4.5</th>\n",
       "      <td>8551</td>\n",
       "    </tr>\n",
       "    <tr>\n",
       "      <th>5.0</th>\n",
       "      <td>13211</td>\n",
       "    </tr>\n",
       "  </tbody>\n",
       "</table>\n",
       "</div>"
      ],
      "text/plain": [
       "       count\n",
       "0.0  5830804\n",
       "0.5     1370\n",
       "1.0     2811\n",
       "1.5     1791\n",
       "2.0     7551\n",
       "2.5     5550\n",
       "3.0    20047\n",
       "3.5    13136\n",
       "4.0    26818\n",
       "4.5     8551\n",
       "5.0    13211"
      ]
     },
     "execution_count": 8,
     "metadata": {},
     "output_type": "execute_result"
    }
   ],
   "source": [
    "total = num_users * num_movies\n",
    "num_zero_rating = total - df_rate.shape[0]\n",
    "\n",
    "# Add this count into the dataframe of rating statistic\n",
    "df_cnt_rating_full = pd.concat([df_cnt_rating, pd.DataFrame({'count':num_zero_rating}, index=[0.0])]).sort_index()\n",
    "df_cnt_rating_full"
   ]
  },
  {
   "cell_type": "markdown",
   "id": "acaea851",
   "metadata": {},
   "source": [
    "Start plotting a bar chart to have a more visual view. "
   ]
  },
  {
   "cell_type": "code",
   "execution_count": 9,
   "id": "f884282f",
   "metadata": {},
   "outputs": [
    {
     "data": {
      "image/png": "[encoded data removed]",
      "text/plain": [
       "<Figure size 864x576 with 1 Axes>"
      ]
     },
     "metadata": {
      "needs_background": "light"
     },
     "output_type": "display_data"
    }
   ],
   "source": [
    "ax = df_cnt_rating_full[['count']].reset_index().rename(columns={'index':'Rating score'}).plot(x='Rating score',\n",
    "                                                                                          y='count',\n",
    "                                                                                          kind='bar',\n",
    "                                                                                          figsize=(12,8),\n",
    "                                                                                          title='Count for each Score of Rating')\n",
    "ax.set_xlabel('Rating Scores')\n",
    "ax.set_xlabel('Number of Ratings')\n",
    "plt.show()"
   ]
  },
  {
   "cell_type": "markdown",
   "id": "7d969544",
   "metadata": {},
   "source": [
    "It is because the number of 0.0 rating is too much higher than others. We need to apply Log method to scale down them all."
   ]
  },
  {
   "cell_type": "code",
   "execution_count": 10,
   "id": "f9a46a94",
   "metadata": {},
   "outputs": [],
   "source": [
    "# df_cnt_rating_full['log_count'] = np.log(df_cnt_rating_full['count'])\n",
    "# df_cnt_rating_full"
   ]
  },
  {
   "cell_type": "code",
   "execution_count": 11,
   "id": "65ce8fce",
   "metadata": {},
   "outputs": [],
   "source": [
    "# # Plot again with feature logy = True\n",
    "# ax = df_cnt_rating_full[['log_count']].reset_index().rename(columns={'index':'Rating score'}).plot(x='Rating score',\n",
    "#                                                                                           y='log_count',\n",
    "#                                                                                           kind='bar',\n",
    "#                                                                                           figsize=(12,8),\n",
    "#                                                                                           title='Count for each Score of Rating')\n",
    "# ax.set_xlabel('Rating Scores')\n",
    "# ax.set_xlabel('Number of Ratings')\n",
    "# plt.show()"
   ]
  },
  {
   "cell_type": "code",
   "execution_count": 12,
   "id": "0ec87b1f",
   "metadata": {
    "scrolled": false
   },
   "outputs": [
    {
     "data": {
      "image/png": "[encoded data removed]",
      "text/plain": [
       "<Figure size 864x576 with 1 Axes>"
      ]
     },
     "metadata": {
      "needs_background": "light"
     },
     "output_type": "display_data"
    }
   ],
   "source": [
    "# Plot again with feature logy = True\n",
    "ax = df_cnt_rating_full[['count']].reset_index()\\\n",
    "                                  .rename(columns={'index':'Rating score'})\\\n",
    "                                  .plot(x='Rating score',\n",
    "                                        y='count',\n",
    "                                        kind='bar',\n",
    "                                        figsize=(12,8),\n",
    "                                        title='Count for each Score of Rating',\n",
    "                                        logy=True)\n",
    "ax.set_xlabel('Rating Scores')\n",
    "ax.set_xlabel('Number of Ratings')\n",
    "plt.show()"
   ]
  },
  {
   "cell_type": "markdown",
   "id": "27b76d17",
   "metadata": {},
   "source": [
    "Next, we will continue to analyze the popularity of movies. Because there are movies that have a lot of views, while the others are not."
   ]
  },
  {
   "cell_type": "code",
   "execution_count": 13,
   "id": "6394f316",
   "metadata": {
    "scrolled": true
   },
   "outputs": [
    {
     "data": {
      "text/html": [
       "<div>\n",
       "<style scoped>\n",
       "    .dataframe tbody tr th:only-of-type {\n",
       "        vertical-align: middle;\n",
       "    }\n",
       "\n",
       "    .dataframe tbody tr th {\n",
       "        vertical-align: top;\n",
       "    }\n",
       "\n",
       "    .dataframe thead th {\n",
       "        text-align: right;\n",
       "    }\n",
       "</style>\n",
       "<table border=\"1\" class=\"dataframe\">\n",
       "  <thead>\n",
       "    <tr style=\"text-align: right;\">\n",
       "      <th></th>\n",
       "      <th>count</th>\n",
       "    </tr>\n",
       "    <tr>\n",
       "      <th>movieId</th>\n",
       "      <th></th>\n",
       "    </tr>\n",
       "  </thead>\n",
       "  <tbody>\n",
       "    <tr>\n",
       "      <th>1</th>\n",
       "      <td>215</td>\n",
       "    </tr>\n",
       "    <tr>\n",
       "      <th>2</th>\n",
       "      <td>110</td>\n",
       "    </tr>\n",
       "    <tr>\n",
       "      <th>3</th>\n",
       "      <td>52</td>\n",
       "    </tr>\n",
       "    <tr>\n",
       "      <th>4</th>\n",
       "      <td>7</td>\n",
       "    </tr>\n",
       "    <tr>\n",
       "      <th>5</th>\n",
       "      <td>49</td>\n",
       "    </tr>\n",
       "  </tbody>\n",
       "</table>\n",
       "</div>"
      ],
      "text/plain": [
       "         count\n",
       "movieId       \n",
       "1          215\n",
       "2          110\n",
       "3           52\n",
       "4            7\n",
       "5           49"
      ]
     },
     "execution_count": 13,
     "metadata": {},
     "output_type": "execute_result"
    }
   ],
   "source": [
    "df_movie_rt = pd.DataFrame(df_rate.groupby('movieId').size(), columns=['count'])\n",
    "df_movie_rt.head()"
   ]
  },
  {
   "cell_type": "code",
   "execution_count": 14,
   "id": "31365088",
   "metadata": {},
   "outputs": [
    {
     "data": {
      "image/png": "[encoded data removed]",
      "text/plain": [
       "<Figure size 864x576 with 1 Axes>"
      ]
     },
     "metadata": {
      "needs_background": "light"
     },
     "output_type": "display_data"
    }
   ],
   "source": [
    "ax = df_movie_rt.sort_values('count', ascending=False)\\\n",
    "                .reset_index(drop=True)\\\n",
    "                .plot(figsize=(12,8),\n",
    "                      title='Popularity of movies')\n",
    "ax.set_xlabel('Movie')\n",
    "ax.set_ylabel('Number of ratings')\n",
    "plt.show()"
   ]
  },
  {
   "cell_type": "markdown",
   "id": "851ce4d1",
   "metadata": {},
   "source": [
    "We can see that there is a huge difference in popularity of those movies.<br>\n",
    "There are some movies are frequently rated, but there are others opposite. This will result a highly skewed distribution in this dataset.<br>"
   ]
  },
  {
   "cell_type": "code",
   "execution_count": 15,
   "id": "83696779",
   "metadata": {},
   "outputs": [
    {
     "data": {
      "image/png": "[encoded data removed]",
      "text/plain": [
       "<Figure size 864x576 with 1 Axes>"
      ]
     },
     "metadata": {
      "needs_background": "light"
     },
     "output_type": "display_data"
    }
   ],
   "source": [
    "ax = df_movie_rt.sort_values('count', ascending=False)\\\n",
    "                .reset_index(drop=True)\\\n",
    "                .plot(figsize=(12,8),\n",
    "                      title='Popularity of movies',\n",
    "                      logy=True)\n",
    "ax.set_xlabel('Movie')\n",
    "ax.set_ylabel('Number of ratings')\n",
    "plt.show()"
   ]
  },
  {
   "cell_type": "markdown",
   "id": "8c259427",
   "metadata": {},
   "source": [
    "We can see that in 9724 movies, there are roughly 2000 movies which have 10 or more number of ratings.<br>\n",
    "Let's apply quantile to have a closer look on distribution of this dataset.<br>"
   ]
  },
  {
   "cell_type": "code",
   "execution_count": 16,
   "id": "051b3577",
   "metadata": {},
   "outputs": [
    {
     "data": {
      "text/plain": [
       "1.00    329.0\n",
       "0.95     47.0\n",
       "0.90     27.0\n",
       "0.85     17.0\n",
       "0.80     12.0\n",
       "0.75      9.0\n",
       "0.70      7.0\n",
       "0.65      5.0\n",
       "Name: count, dtype: float64"
      ]
     },
     "execution_count": 16,
     "metadata": {},
     "output_type": "execute_result"
    }
   ],
   "source": [
    "df_movie_rt['count'].quantile(np.arange(1,0.6,-0.05))"
   ]
  },
  {
   "cell_type": "markdown",
   "id": "67039b4d",
   "metadata": {},
   "source": [
    "We can see that there is only 1% of all movies have 329 ratings, 5% has 47 ratings and 25% have 9 ratings.<br>\n",
    "We will consider and choose a threshold to limit the number of movies we should use for training model. It is because we have a lot of movies which have small number of ratings or even don't have any rating. If we take also those movies, it will affect to accuracy of our model.</br>\n",
    "Let's choose movies have 50 or more ratings.<br>"
   ]
  },
  {
   "cell_type": "code",
   "execution_count": 17,
   "id": "b8b10f43",
   "metadata": {},
   "outputs": [],
   "source": [
    "thresh = 50\n",
    "popular_movies_index = list(set(df_movie_rt.query('count >= @thresh').index))"
   ]
  },
  {
   "cell_type": "markdown",
   "id": "dac5701e",
   "metadata": {},
   "source": [
    "After getting the index of popular movies, we will exact their number of ratings from the rating dataset"
   ]
  },
  {
   "cell_type": "code",
   "execution_count": 18,
   "id": "46c5b9be",
   "metadata": {},
   "outputs": [
    {
     "data": {
      "text/html": [
       "<div>\n",
       "<style scoped>\n",
       "    .dataframe tbody tr th:only-of-type {\n",
       "        vertical-align: middle;\n",
       "    }\n",
       "\n",
       "    .dataframe tbody tr th {\n",
       "        vertical-align: top;\n",
       "    }\n",
       "\n",
       "    .dataframe thead th {\n",
       "        text-align: right;\n",
       "    }\n",
       "</style>\n",
       "<table border=\"1\" class=\"dataframe\">\n",
       "  <thead>\n",
       "    <tr style=\"text-align: right;\">\n",
       "      <th></th>\n",
       "      <th>userId</th>\n",
       "      <th>movieId</th>\n",
       "      <th>rating</th>\n",
       "    </tr>\n",
       "  </thead>\n",
       "  <tbody>\n",
       "    <tr>\n",
       "      <th>0</th>\n",
       "      <td>1</td>\n",
       "      <td>1</td>\n",
       "      <td>4.0</td>\n",
       "    </tr>\n",
       "    <tr>\n",
       "      <th>1</th>\n",
       "      <td>1</td>\n",
       "      <td>3</td>\n",
       "      <td>4.0</td>\n",
       "    </tr>\n",
       "    <tr>\n",
       "      <th>2</th>\n",
       "      <td>1</td>\n",
       "      <td>6</td>\n",
       "      <td>4.0</td>\n",
       "    </tr>\n",
       "    <tr>\n",
       "      <th>3</th>\n",
       "      <td>1</td>\n",
       "      <td>47</td>\n",
       "      <td>5.0</td>\n",
       "    </tr>\n",
       "    <tr>\n",
       "      <th>4</th>\n",
       "      <td>1</td>\n",
       "      <td>50</td>\n",
       "      <td>5.0</td>\n",
       "    </tr>\n",
       "  </tbody>\n",
       "</table>\n",
       "</div>"
      ],
      "text/plain": [
       "   userId  movieId  rating\n",
       "0       1        1     4.0\n",
       "1       1        3     4.0\n",
       "2       1        6     4.0\n",
       "3       1       47     5.0\n",
       "4       1       50     5.0"
      ]
     },
     "execution_count": 18,
     "metadata": {},
     "output_type": "execute_result"
    }
   ],
   "source": [
    "df_popular_rate = df_rate[df_rate['movieId'].isin(popular_movies_index)]\n",
    "df_popular_rate.head()"
   ]
  },
  {
   "cell_type": "code",
   "execution_count": 19,
   "id": "12259d13",
   "metadata": {},
   "outputs": [
    {
     "name": "stdout",
     "output_type": "stream",
     "text": [
      "There are 41360 rating for popular movies out of 100836 rating in dataset.\n"
     ]
    }
   ],
   "source": [
    "num_popular = len(df_popular_rate)\n",
    "num_rating = len(df_rate)\n",
    "print('There are {} rating for popular movies out of {} rating in dataset.'.format(num_popular, num_rating))"
   ]
  },
  {
   "cell_type": "markdown",
   "id": "720d53d8",
   "metadata": {},
   "source": [
    "At this step, we filtered out the rating of unpopular movies.<br>\n",
    "We will continue to explore our dataset with another point of view from user.<br>\n",
    "As our analysis about movies, we filtered out unpopular movies because it will affect to our model, we also need to check the users who less involve to rate movies. Because we need to build model based on trustworthy rating."
   ]
  },
  {
   "cell_type": "code",
   "execution_count": 20,
   "id": "6ab86898",
   "metadata": {},
   "outputs": [
    {
     "data": {
      "text/html": [
       "<div>\n",
       "<style scoped>\n",
       "    .dataframe tbody tr th:only-of-type {\n",
       "        vertical-align: middle;\n",
       "    }\n",
       "\n",
       "    .dataframe tbody tr th {\n",
       "        vertical-align: top;\n",
       "    }\n",
       "\n",
       "    .dataframe thead th {\n",
       "        text-align: right;\n",
       "    }\n",
       "</style>\n",
       "<table border=\"1\" class=\"dataframe\">\n",
       "  <thead>\n",
       "    <tr style=\"text-align: right;\">\n",
       "      <th></th>\n",
       "      <th>count</th>\n",
       "    </tr>\n",
       "    <tr>\n",
       "      <th>userId</th>\n",
       "      <th></th>\n",
       "    </tr>\n",
       "  </thead>\n",
       "  <tbody>\n",
       "    <tr>\n",
       "      <th>1</th>\n",
       "      <td>117</td>\n",
       "    </tr>\n",
       "    <tr>\n",
       "      <th>2</th>\n",
       "      <td>15</td>\n",
       "    </tr>\n",
       "    <tr>\n",
       "      <th>3</th>\n",
       "      <td>6</td>\n",
       "    </tr>\n",
       "    <tr>\n",
       "      <th>4</th>\n",
       "      <td>84</td>\n",
       "    </tr>\n",
       "    <tr>\n",
       "      <th>5</th>\n",
       "      <td>34</td>\n",
       "    </tr>\n",
       "    <tr>\n",
       "      <th>...</th>\n",
       "      <td>...</td>\n",
       "    </tr>\n",
       "    <tr>\n",
       "      <th>606</th>\n",
       "      <td>238</td>\n",
       "    </tr>\n",
       "    <tr>\n",
       "      <th>607</th>\n",
       "      <td>100</td>\n",
       "    </tr>\n",
       "    <tr>\n",
       "      <th>608</th>\n",
       "      <td>309</td>\n",
       "    </tr>\n",
       "    <tr>\n",
       "      <th>609</th>\n",
       "      <td>24</td>\n",
       "    </tr>\n",
       "    <tr>\n",
       "      <th>610</th>\n",
       "      <td>240</td>\n",
       "    </tr>\n",
       "  </tbody>\n",
       "</table>\n",
       "<p>606 rows × 1 columns</p>\n",
       "</div>"
      ],
      "text/plain": [
       "        count\n",
       "userId       \n",
       "1         117\n",
       "2          15\n",
       "3           6\n",
       "4          84\n",
       "5          34\n",
       "...       ...\n",
       "606       238\n",
       "607       100\n",
       "608       309\n",
       "609        24\n",
       "610       240\n",
       "\n",
       "[606 rows x 1 columns]"
      ]
     },
     "execution_count": 20,
     "metadata": {},
     "output_type": "execute_result"
    }
   ],
   "source": [
    "df_user_rt = pd.DataFrame(df_popular_rate.groupby('userId').size(), columns=['count'])\n",
    "df_user_rt"
   ]
  },
  {
   "cell_type": "code",
   "execution_count": 21,
   "id": "70ab18c2",
   "metadata": {},
   "outputs": [
    {
     "data": {
      "image/png": "[encoded data removed]",
      "text/plain": [
       "<Figure size 864x576 with 1 Axes>"
      ]
     },
     "metadata": {
      "needs_background": "light"
     },
     "output_type": "display_data"
    }
   ],
   "source": [
    "ax = df_user_rt.sort_values('count', ascending=False)\\\n",
    "               .reset_index(drop=True)\\\n",
    "               .plot(figsize=(12,8),\n",
    "                     title='Rating frequency of users')\n",
    "ax.set_xlabel('User')\n",
    "ax.set_ylabel('Number of rating')\n",
    "plt.show()"
   ]
  },
  {
   "cell_type": "code",
   "execution_count": 22,
   "id": "f8b32de1",
   "metadata": {},
   "outputs": [
    {
     "data": {
      "text/plain": [
       "1.00    429.00\n",
       "0.95    223.50\n",
       "0.90    166.00\n",
       "0.85    134.25\n",
       "0.80    105.00\n",
       "0.75     85.00\n",
       "0.70     74.00\n",
       "0.65     62.25\n",
       "Name: count, dtype: float64"
      ]
     },
     "execution_count": 22,
     "metadata": {},
     "output_type": "execute_result"
    }
   ],
   "source": [
    "df_user_rt['count'].quantile(np.arange(1,0.6,-0.05))"
   ]
  },
  {
   "cell_type": "markdown",
   "id": "8cde005a",
   "metadata": {},
   "source": [
    "We can also see that, there is only tiny fraction of users proactively rated movies they watched.<br>\n",
    "To get the trustworthy rating, we will limit to take the top proactive users.<br>"
   ]
  },
  {
   "cell_type": "code",
   "execution_count": 23,
   "id": "1968e717",
   "metadata": {},
   "outputs": [
    {
     "data": {
      "text/html": [
       "<div>\n",
       "<style scoped>\n",
       "    .dataframe tbody tr th:only-of-type {\n",
       "        vertical-align: middle;\n",
       "    }\n",
       "\n",
       "    .dataframe tbody tr th {\n",
       "        vertical-align: top;\n",
       "    }\n",
       "\n",
       "    .dataframe thead th {\n",
       "        text-align: right;\n",
       "    }\n",
       "</style>\n",
       "<table border=\"1\" class=\"dataframe\">\n",
       "  <thead>\n",
       "    <tr style=\"text-align: right;\">\n",
       "      <th></th>\n",
       "      <th>userId</th>\n",
       "      <th>movieId</th>\n",
       "      <th>rating</th>\n",
       "    </tr>\n",
       "  </thead>\n",
       "  <tbody>\n",
       "    <tr>\n",
       "      <th>0</th>\n",
       "      <td>1</td>\n",
       "      <td>1</td>\n",
       "      <td>4.0</td>\n",
       "    </tr>\n",
       "    <tr>\n",
       "      <th>1</th>\n",
       "      <td>1</td>\n",
       "      <td>3</td>\n",
       "      <td>4.0</td>\n",
       "    </tr>\n",
       "    <tr>\n",
       "      <th>2</th>\n",
       "      <td>1</td>\n",
       "      <td>6</td>\n",
       "      <td>4.0</td>\n",
       "    </tr>\n",
       "    <tr>\n",
       "      <th>3</th>\n",
       "      <td>1</td>\n",
       "      <td>47</td>\n",
       "      <td>5.0</td>\n",
       "    </tr>\n",
       "    <tr>\n",
       "      <th>4</th>\n",
       "      <td>1</td>\n",
       "      <td>50</td>\n",
       "      <td>5.0</td>\n",
       "    </tr>\n",
       "  </tbody>\n",
       "</table>\n",
       "</div>"
      ],
      "text/plain": [
       "   userId  movieId  rating\n",
       "0       1        1     4.0\n",
       "1       1        3     4.0\n",
       "2       1        6     4.0\n",
       "3       1       47     5.0\n",
       "4       1       50     5.0"
      ]
     },
     "execution_count": 23,
     "metadata": {},
     "output_type": "execute_result"
    }
   ],
   "source": [
    "# Get user ID of proactive users\n",
    "thresh = 50\n",
    "popular_user_index = list(set(df_user_rt.query('count >= @thresh').index))\n",
    "\n",
    "# Exact ratings from those users\n",
    "df_proactive_rate = df_popular_rate[df_popular_rate['userId'].isin(popular_user_index)]\n",
    "df_proactive_rate.head()"
   ]
  },
  {
   "cell_type": "code",
   "execution_count": 24,
   "id": "5b59fdf1",
   "metadata": {},
   "outputs": [
    {
     "name": "stdout",
     "output_type": "stream",
     "text": [
      "There are 32999 ratings from proactive users\n"
     ]
    }
   ],
   "source": [
    "print('There are {} ratings from proactive users'.format(len(df_proactive_rate)))"
   ]
  },
  {
   "cell_type": "markdown",
   "id": "480d89cf",
   "metadata": {},
   "source": [
    "<h1>BUILDING KNN MODEL</h1>"
   ]
  },
  {
   "cell_type": "markdown",
   "id": "b4803cb8",
   "metadata": {},
   "source": [
    "To build a KNN model, firstly, we need to convert our dataset to be a user/item matrix, it can be considered as a pivot table.<br>\n",
    "The user/item matrix will have each row represent to 1 movie and each column for 1 user.<br>\n",
    "We recognize that there will be some missing value due to a user did not rate movies. Let's solve it by fillna.<br>"
   ]
  },
  {
   "cell_type": "code",
   "execution_count": 25,
   "id": "3ebef182",
   "metadata": {
    "scrolled": false
   },
   "outputs": [
    {
     "data": {
      "text/html": [
       "<div>\n",
       "<style scoped>\n",
       "    .dataframe tbody tr th:only-of-type {\n",
       "        vertical-align: middle;\n",
       "    }\n",
       "\n",
       "    .dataframe tbody tr th {\n",
       "        vertical-align: top;\n",
       "    }\n",
       "\n",
       "    .dataframe thead th {\n",
       "        text-align: right;\n",
       "    }\n",
       "</style>\n",
       "<table border=\"1\" class=\"dataframe\">\n",
       "  <thead>\n",
       "    <tr style=\"text-align: right;\">\n",
       "      <th>userId</th>\n",
       "      <th>1</th>\n",
       "      <th>4</th>\n",
       "      <th>6</th>\n",
       "      <th>7</th>\n",
       "      <th>15</th>\n",
       "      <th>16</th>\n",
       "      <th>17</th>\n",
       "      <th>18</th>\n",
       "      <th>19</th>\n",
       "      <th>20</th>\n",
       "      <th>...</th>\n",
       "      <th>600</th>\n",
       "      <th>601</th>\n",
       "      <th>602</th>\n",
       "      <th>603</th>\n",
       "      <th>604</th>\n",
       "      <th>605</th>\n",
       "      <th>606</th>\n",
       "      <th>607</th>\n",
       "      <th>608</th>\n",
       "      <th>610</th>\n",
       "    </tr>\n",
       "    <tr>\n",
       "      <th>movieId</th>\n",
       "      <th></th>\n",
       "      <th></th>\n",
       "      <th></th>\n",
       "      <th></th>\n",
       "      <th></th>\n",
       "      <th></th>\n",
       "      <th></th>\n",
       "      <th></th>\n",
       "      <th></th>\n",
       "      <th></th>\n",
       "      <th></th>\n",
       "      <th></th>\n",
       "      <th></th>\n",
       "      <th></th>\n",
       "      <th></th>\n",
       "      <th></th>\n",
       "      <th></th>\n",
       "      <th></th>\n",
       "      <th></th>\n",
       "      <th></th>\n",
       "      <th></th>\n",
       "    </tr>\n",
       "  </thead>\n",
       "  <tbody>\n",
       "    <tr>\n",
       "      <th>1</th>\n",
       "      <td>4.0</td>\n",
       "      <td>0.0</td>\n",
       "      <td>0.0</td>\n",
       "      <td>4.5</td>\n",
       "      <td>2.5</td>\n",
       "      <td>0.0</td>\n",
       "      <td>4.5</td>\n",
       "      <td>3.5</td>\n",
       "      <td>4.0</td>\n",
       "      <td>0.0</td>\n",
       "      <td>...</td>\n",
       "      <td>2.5</td>\n",
       "      <td>4.0</td>\n",
       "      <td>0.0</td>\n",
       "      <td>4.0</td>\n",
       "      <td>3.0</td>\n",
       "      <td>4.0</td>\n",
       "      <td>2.5</td>\n",
       "      <td>4.0</td>\n",
       "      <td>2.5</td>\n",
       "      <td>5.0</td>\n",
       "    </tr>\n",
       "    <tr>\n",
       "      <th>2</th>\n",
       "      <td>0.0</td>\n",
       "      <td>0.0</td>\n",
       "      <td>4.0</td>\n",
       "      <td>0.0</td>\n",
       "      <td>0.0</td>\n",
       "      <td>0.0</td>\n",
       "      <td>0.0</td>\n",
       "      <td>3.0</td>\n",
       "      <td>3.0</td>\n",
       "      <td>3.0</td>\n",
       "      <td>...</td>\n",
       "      <td>4.0</td>\n",
       "      <td>0.0</td>\n",
       "      <td>4.0</td>\n",
       "      <td>0.0</td>\n",
       "      <td>5.0</td>\n",
       "      <td>3.5</td>\n",
       "      <td>0.0</td>\n",
       "      <td>0.0</td>\n",
       "      <td>2.0</td>\n",
       "      <td>0.0</td>\n",
       "    </tr>\n",
       "    <tr>\n",
       "      <th>3</th>\n",
       "      <td>4.0</td>\n",
       "      <td>0.0</td>\n",
       "      <td>5.0</td>\n",
       "      <td>0.0</td>\n",
       "      <td>0.0</td>\n",
       "      <td>0.0</td>\n",
       "      <td>0.0</td>\n",
       "      <td>0.0</td>\n",
       "      <td>3.0</td>\n",
       "      <td>0.0</td>\n",
       "      <td>...</td>\n",
       "      <td>0.0</td>\n",
       "      <td>0.0</td>\n",
       "      <td>0.0</td>\n",
       "      <td>0.0</td>\n",
       "      <td>0.0</td>\n",
       "      <td>0.0</td>\n",
       "      <td>0.0</td>\n",
       "      <td>0.0</td>\n",
       "      <td>2.0</td>\n",
       "      <td>0.0</td>\n",
       "    </tr>\n",
       "    <tr>\n",
       "      <th>6</th>\n",
       "      <td>4.0</td>\n",
       "      <td>0.0</td>\n",
       "      <td>4.0</td>\n",
       "      <td>0.0</td>\n",
       "      <td>0.0</td>\n",
       "      <td>0.0</td>\n",
       "      <td>0.0</td>\n",
       "      <td>4.0</td>\n",
       "      <td>0.0</td>\n",
       "      <td>0.0</td>\n",
       "      <td>...</td>\n",
       "      <td>0.0</td>\n",
       "      <td>0.0</td>\n",
       "      <td>3.0</td>\n",
       "      <td>4.0</td>\n",
       "      <td>3.0</td>\n",
       "      <td>0.0</td>\n",
       "      <td>0.0</td>\n",
       "      <td>0.0</td>\n",
       "      <td>0.0</td>\n",
       "      <td>5.0</td>\n",
       "    </tr>\n",
       "    <tr>\n",
       "      <th>7</th>\n",
       "      <td>0.0</td>\n",
       "      <td>0.0</td>\n",
       "      <td>4.0</td>\n",
       "      <td>0.0</td>\n",
       "      <td>0.0</td>\n",
       "      <td>0.0</td>\n",
       "      <td>0.0</td>\n",
       "      <td>0.0</td>\n",
       "      <td>2.0</td>\n",
       "      <td>0.0</td>\n",
       "      <td>...</td>\n",
       "      <td>3.5</td>\n",
       "      <td>0.0</td>\n",
       "      <td>0.0</td>\n",
       "      <td>0.0</td>\n",
       "      <td>0.0</td>\n",
       "      <td>0.0</td>\n",
       "      <td>2.5</td>\n",
       "      <td>0.0</td>\n",
       "      <td>0.0</td>\n",
       "      <td>0.0</td>\n",
       "    </tr>\n",
       "  </tbody>\n",
       "</table>\n",
       "<p>5 rows × 268 columns</p>\n",
       "</div>"
      ],
      "text/plain": [
       "userId   1    4    6    7    15   16   17   18   19   20   ...  600  601  602  \\\n",
       "movieId                                                    ...                  \n",
       "1        4.0  0.0  0.0  4.5  2.5  0.0  4.5  3.5  4.0  0.0  ...  2.5  4.0  0.0   \n",
       "2        0.0  0.0  4.0  0.0  0.0  0.0  0.0  3.0  3.0  3.0  ...  4.0  0.0  4.0   \n",
       "3        4.0  0.0  5.0  0.0  0.0  0.0  0.0  0.0  3.0  0.0  ...  0.0  0.0  0.0   \n",
       "6        4.0  0.0  4.0  0.0  0.0  0.0  0.0  4.0  0.0  0.0  ...  0.0  0.0  3.0   \n",
       "7        0.0  0.0  4.0  0.0  0.0  0.0  0.0  0.0  2.0  0.0  ...  3.5  0.0  0.0   \n",
       "\n",
       "userId   603  604  605  606  607  608  610  \n",
       "movieId                                     \n",
       "1        4.0  3.0  4.0  2.5  4.0  2.5  5.0  \n",
       "2        0.0  5.0  3.5  0.0  0.0  2.0  0.0  \n",
       "3        0.0  0.0  0.0  0.0  0.0  2.0  0.0  \n",
       "6        4.0  3.0  0.0  0.0  0.0  0.0  5.0  \n",
       "7        0.0  0.0  0.0  2.5  0.0  0.0  0.0  \n",
       "\n",
       "[5 rows x 268 columns]"
      ]
     },
     "execution_count": 25,
     "metadata": {},
     "output_type": "execute_result"
    }
   ],
   "source": [
    "ui_matrix = df_proactive_rate.pivot(index='movieId', columns='userId', values='rating').fillna(0)\n",
    "ui_matrix.head()"
   ]
  },
  {
   "cell_type": "code",
   "execution_count": 55,
   "id": "1c74b91a",
   "metadata": {},
   "outputs": [
    {
     "data": {
      "text/plain": [
       "(450, 268)"
      ]
     },
     "execution_count": 55,
     "metadata": {},
     "output_type": "execute_result"
    }
   ],
   "source": [
    "ui_matrix.shape"
   ]
  },
  {
   "cell_type": "markdown",
   "id": "3a43d5d7",
   "metadata": {},
   "source": [
    "You will see that we receive a quite big matrix, but almost of all values in this matrix are 0 because a user just watched a certain number of movies.<br>\n",
    "Building a ML model on this big matrix is very wasteful of time and memory. Moreover, a lot of 0 value is simply ineffcient for model.<br>\n",
    "So we need to convert this matrix to a sparse matrix for effective consumption.<br>"
   ]
  },
  {
   "cell_type": "code",
   "execution_count": 53,
   "id": "10312400",
   "metadata": {},
   "outputs": [],
   "source": [
    "ui_matrix_sparse = csr_matrix(ui_matrix.values)"
   ]
  },
  {
   "cell_type": "markdown",
   "id": "c1e7f2e9",
   "metadata": {},
   "source": [
    "Take the title of movies from movie dataset but just take only movies that have index in the user/item/matrix. Also set new index for the list of movies.<br>"
   ]
  },
  {
   "cell_type": "code",
   "execution_count": 85,
   "id": "38396c55",
   "metadata": {
    "scrolled": true
   },
   "outputs": [
    {
     "data": {
      "text/plain": [
       "[(0, 'Toy Story (1995)'),\n",
       " (1, 'Jumanji (1995)'),\n",
       " (2, 'Grumpier Old Men (1995)'),\n",
       " (3, 'Heat (1995)'),\n",
       " (4, 'Sabrina (1995)')]"
      ]
     },
     "execution_count": 85,
     "metadata": {},
     "output_type": "execute_result"
    }
   ],
   "source": [
    "df_movie_recsys = {i: mv for i, mv in enumerate(list(df_movie.set_index('movieId').loc[ui_matrix.index].title))}\n",
    "list(df_movie_recsys.items())[:5]"
   ]
  },
  {
   "cell_type": "markdown",
   "id": "e3d48be5",
   "metadata": {},
   "source": [
    "Initilize KNN model with all setting parameters."
   ]
  },
  {
   "cell_type": "code",
   "execution_count": 107,
   "id": "0d8cdd52",
   "metadata": {},
   "outputs": [],
   "source": [
    "knn = NearestNeighbors(metric='cosine', algorithm='brute', n_neighbors=20, n_jobs=-1)"
   ]
  },
  {
   "cell_type": "markdown",
   "id": "36b969d3",
   "metadata": {},
   "source": [
    "After defining KNN model, we will use fuzzy algorithm to find out the closest match movies."
   ]
  },
  {
   "cell_type": "code",
   "execution_count": 108,
   "id": "a09d2d22",
   "metadata": {},
   "outputs": [],
   "source": [
    "def fuzzy_matching(mapper:dict, fav_item:str, verbose:bool=True):\n",
    "    \"\"\"\n",
    "    mapper: dict, map movie title name to index of the movie in data\n",
    "    fav_item: str, name of input movie\n",
    "    verbose: bool, print log if True\n",
    "    Returns: index of the closest match\n",
    "    \"\"\"\n",
    "    match_tuple = []\n",
    "    # Calculation fuzzy ratio between the input movie title and all movies title. \n",
    "    # Take only movies which have 60 or more matching score\n",
    "    for idx, title in mapper.items():\n",
    "        ratio = fuzz.ratio(title.lower(), fav_item.lower())\n",
    "        if ratio >= 60:\n",
    "            match_tuple.append((idx, title, ratio))\n",
    "            \n",
    "    # Sort descending the matching list based on ratio score\n",
    "    match_tuple = sorted(match_tuple, key=lambda x: x[2])[::-1]\n",
    "    if not match_tuple:\n",
    "        print('No match is found!')\n",
    "        return\n",
    "    return match_tuple[0][0]"
   ]
  },
  {
   "cell_type": "code",
   "execution_count": 109,
   "id": "33a5f2d9",
   "metadata": {},
   "outputs": [],
   "source": [
    "def make_recommendation(model_knn, data, mapper:dict, fav_item:str, n_recommendations:int):\n",
    "    \"\"\"\n",
    "    return top n similar movie recommendations based on user's input movie\n",
    "    Args\n",
    "    ----\n",
    "    model_knn: knn model\n",
    "    data: user/item matrix\n",
    "    mapper: dict, map movie title name to index of the movie in data\n",
    "    fav_movie: str, name of the input movie\n",
    "    n_recommendations: int, top n recommendations\n",
    "    ----\n",
    "    Returns: list of top n similar movie recommendations\n",
    "    \"\"\"\n",
    "    # training KNN model\n",
    "    model_knn.fit(data)\n",
    "    \n",
    "    # get index of input movie \n",
    "    idx = fuzzy_matching(mapper, fav_item, verbose=True)\n",
    "    \n",
    "    # Model compute distance between the favorite movie and the others\n",
    "    # we use n_recommendations+1 because the result will include the input movie. Then we will take only the 10 others\n",
    "    print('Recommendation system start computating similar movies')\n",
    "    print('......\\n')\n",
    "    distances, indices = model_knn.kneighbors(data[idx], n_neighbors=n_recommendations+1) \n",
    "    \n",
    "    # get list of raw index of recommendations and sort by distance\n",
    "    # [1:] The first index (0) will be the input movie, so we take similar movies from the second position\n",
    "    raw_recommends = sorted(list(zip(indices.squeeze().tolist(), distances.squeeze().tolist())), key=lambda x: x[1])[1:]\n",
    "    \n",
    "    # print recommendations\n",
    "    print('Recommendations for the movie you are watching \"{}\": '.format(fav_item))\n",
    "    for i, (idx, dist) in enumerate(raw_recommends):\n",
    "        print('{0}: {1}'.format(i+1, mapper[idx]))"
   ]
  },
  {
   "cell_type": "markdown",
   "id": "bb39bdd9",
   "metadata": {},
   "source": [
    "<h1>TEST</h1>"
   ]
  },
  {
   "cell_type": "code",
   "execution_count": 110,
   "id": "79590603",
   "metadata": {},
   "outputs": [
    {
     "name": "stdout",
     "output_type": "stream",
     "text": [
      "Recommendation system start computating similar movies\n",
      "......\n",
      "\n",
      "Recommendations for the movie you are watching \"Godfather: Part II, The (1974)\": \n",
      "1: Godfather, The (1972)\n",
      "2: Reservoir Dogs (1992)\n",
      "3: Goodfellas (1990)\n",
      "4: Star Wars: Episode IV - A New Hope (1977)\n",
      "5: Usual Suspects, The (1995)\n",
      "6: Star Wars: Episode V - The Empire Strikes Back (1980)\n",
      "7: Raiders of the Lost Ark (Indiana Jones and the Raiders of the Lost Ark) (1981)\n",
      "8: Star Wars: Episode VI - Return of the Jedi (1983)\n",
      "9: One Flew Over the Cuckoo's Nest (1975)\n",
      "10: Matrix, The (1999)\n"
     ]
    }
   ],
   "source": [
    "watching_movie = 'Godfather: Part II, The (1974)'\n",
    "\n",
    "make_recommendation(\n",
    "    model_knn=knn,\n",
    "    data=ui_matrix_sparse,\n",
    "    fav_item=watching_movie,\n",
    "    mapper=df_movie_recsys,\n",
    "    n_recommendations=10)"
   ]
  }
 ],
 "metadata": {
  "kernelspec": {
   "display_name": "Python 3 (ipykernel)",
   "language": "python",
   "name": "python3"
  },
  "language_info": {
   "codemirror_mode": {
    "name": "ipython",
    "version": 3
   },
   "file_extension": ".py",
   "mimetype": "text/x-python",
   "name": "python",
   "nbconvert_exporter": "python",
   "pygments_lexer": "ipython3",
   "version": "3.9.12"
  }
 },
 "nbformat": 4,
 "nbformat_minor": 5
}
